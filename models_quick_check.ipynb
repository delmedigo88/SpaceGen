{
  "nbformat": 4,
  "nbformat_minor": 0,
  "metadata": {
    "colab": {
      "provenance": []
    },
    "kernelspec": {
      "name": "python3",
      "display_name": "Python 3"
    },
    "language_info": {
      "name": "python"
    }
  },
  "cells": [
    {
      "cell_type": "code",
      "execution_count": null,
      "metadata": {
        "id": "kgSQeXV3qN1p"
      },
      "outputs": [],
      "source": [
        "!git clone https://github.com/delmedigo88/SpaceGen.git"
      ]
    },
    {
      "cell_type": "code",
      "source": [
        "import tensorflow as tf\n",
        "import pickle\n",
        "from SpaceGen.SpaceGen_preprocessing import SpaceGen_preprocessing as SG_Prep\n",
        "from SpaceGen.SpaceGen_OneHotVectorizer import SpaceGen_OneHotVectorizer as SgOHV\n",
        "from SpaceGen.SpaceGenerator import SpaceGenerator as SpaceGen"
      ],
      "metadata": {
        "id": "q65jedePqS6J"
      },
      "execution_count": null,
      "outputs": []
    },
    {
      "cell_type": "code",
      "source": [
        "# load model with keras\n",
        "model = pickle.load(open('/content/SpaceGen/pre-trained models/SpaceGen_1.2/SpaceGen_1.2.pkl', 'rb'))\n",
        "vocabulary = pickle.load(open('/content/SpaceGen/pre-trained models/SpaceGen_1.2/SpaceGen_1.2.vocabulary.pkl', 'rb'))"
      ],
      "metadata": {
        "id": "j6mZIGJvqqo_"
      },
      "execution_count": null,
      "outputs": []
    },
    {
      "cell_type": "code",
      "source": [
        "space_gen = SpaceGen(model, vocabulary)"
      ],
      "metadata": {
        "id": "fUy82dpAsHCY"
      },
      "execution_count": null,
      "outputs": []
    },
    {
      "cell_type": "code",
      "source": [
        "space_gen.fix_text(\"HelloMyNameIsAsaf\")"
      ],
      "metadata": {
        "id": "2w9Z6zOnxWD0"
      },
      "execution_count": null,
      "outputs": []
    }
  ]
}